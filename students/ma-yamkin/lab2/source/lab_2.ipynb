{
 "cells": [
  {
   "cell_type": "code",
   "execution_count": 19,
   "id": "1878f7b7",
   "metadata": {},
   "outputs": [],
   "source": [
    "import pandas as pd\n",
    "import numpy as np\n",
    "from sklearn.model_selection import train_test_split\n",
    "from sklearn.neighbors import KNeighborsClassifier\n",
    "from sklearn.model_selection import GridSearchCV\n",
    "from sklearn.metrics import accuracy_score\n",
    "import matplotlib.pyplot as plt\n",
    "import datetime"
   ]
  },
  {
   "cell_type": "markdown",
   "id": "0ce3e3c9",
   "metadata": {},
   "source": [
    "# Загрузка данных"
   ]
  },
  {
   "cell_type": "code",
   "execution_count": 2,
   "id": "8775689a",
   "metadata": {},
   "outputs": [],
   "source": [
    "data = pd.read_csv(\"iris.csv\")\n",
    "\n",
    "features = data.drop(['species'], axis=1)\n",
    "target = data['species']\n",
    "\n",
    "features_train, features_test, target_train, target_test = train_test_split(features, target, test_size=0.25, random_state=24)"
   ]
  },
  {
   "cell_type": "markdown",
   "id": "de9c902d",
   "metadata": {},
   "source": [
    "# Алгоритм"
   ]
  },
  {
   "cell_type": "code",
   "execution_count": 3,
   "id": "6083646d",
   "metadata": {},
   "outputs": [],
   "source": [
    "class KNN:\n",
    "    def __init__(self, k=1):\n",
    "        self.y_train = None\n",
    "        self.X_train = None\n",
    "        self.k = k\n",
    "\n",
    "    def fit(self, X_train, y_train):\n",
    "        self.X_train, self.y_train = np.array(X_train), np.array(y_train)\n",
    "\n",
    "    def euclidean_distances(self, x_test_i):\n",
    "        return np.sqrt(np.sum((self.X_train - x_test_i) ** 2, axis=1))\n",
    "\n",
    "    @staticmethod\n",
    "    def kernel(r):\n",
    "        return (2 * np.pi) ** (-0.5) * np.exp(-0.5 * r ** 2)\n",
    "\n",
    "    def _make_prediction(self, x_test_i):\n",
    "        distances = self.euclidean_distances(x_test_i)\n",
    "\n",
    "        weights = {}\n",
    "\n",
    "        for _ in range(len(self.X_train)):\n",
    "            cl = self.y_train[_]\n",
    "            index_k_plus_1 = np.argsort(distances)[:self.k+1][-1]\n",
    "\n",
    "            r = distances[_] / (distances[index_k_plus_1] + 10**(-4))\n",
    "\n",
    "            try:\n",
    "                weights[cl] += self.kernel(r)\n",
    "            except KeyError:\n",
    "                weights[cl] = self.kernel(r)\n",
    "\n",
    "        max_ = 0\n",
    "        max_key = 0\n",
    "        for key, value in weights.items():\n",
    "            if value > max_:\n",
    "                max_key = key\n",
    "                max_ = value\n",
    "\n",
    "        return max_key\n",
    "\n",
    "    def predict(self, X_test):\n",
    "        return pd.Series([self._make_prediction(x) for x in np.array(X_test)])"
   ]
  },
  {
   "cell_type": "code",
   "execution_count": 4,
   "id": "396f5f3a",
   "metadata": {},
   "outputs": [],
   "source": [
    "class LOO:\n",
    "    def __init__(self, model_, k):\n",
    "        self.best_param_ = None\n",
    "        self.model = model_\n",
    "        self.k = k\n",
    "        self.sum_s = {}\n",
    "\n",
    "\n",
    "    def fit(self, X_train, y_train):\n",
    "        X_train = np.array(X_train)\n",
    "        y_train = np.array(y_train)\n",
    "\n",
    "        for k_ in range(self.k):\n",
    "            self.model.k = k_\n",
    "            sum_ = 0\n",
    "\n",
    "            for _ in range(len(X_train)):\n",
    "                x_array = X_train[_]\n",
    "                x_test = pd.DataFrame({'0': [x_array[0]], '1': [x_array[1]], '2': [x_array[2]], '3': [x_array[3]]})\n",
    "\n",
    "                y_test = y_train[_]\n",
    "\n",
    "                X_train_ = np.concatenate([X_train[0:_], X_train[_+1:]])\n",
    "                y_train_ = np.concatenate([y_train[0:_], y_train[_+1:]])\n",
    "\n",
    "                self.model.fit(X_train_, y_train_)\n",
    "                pred = self.model.predict(x_test)\n",
    "\n",
    "                if pd.Series(y_test)[0] != pred[0]:\n",
    "                    sum_ += 1\n",
    "\n",
    "            self.sum_s[k_] = sum_ / len(X_train)\n",
    "\n",
    "        min_ = 10 ** 9\n",
    "        min_key = 0\n",
    "        for key, value in self.sum_s.items():\n",
    "            if value <= min_:\n",
    "                min_key = key\n",
    "                min_ = value\n",
    "\n",
    "        self.best_param_ = min_key"
   ]
  },
  {
   "cell_type": "code",
   "execution_count": 27,
   "id": "b4e06d0b",
   "metadata": {},
   "outputs": [
    {
     "data": {
      "image/png": "[encoded data removed]",
      "text/plain": [
       "<Figure size 640x480 with 1 Axes>"
      ]
     },
     "metadata": {},
     "output_type": "display_data"
    }
   ],
   "source": [
    "time_ = datetime.datetime.now()\n",
    "search_params = LOO(model_=KNN(), k=10)\n",
    "search_params.fit(features_train, target_train)\n",
    "\n",
    "model = KNN(search_params.best_param_)\n",
    "model.fit(features_train, target_train)\n",
    "target_pred = model.predict(features_test)\n",
    "time__ = datetime.datetime.now()\n",
    "time_hand = time__ - time_\n",
    "\n",
    "graph = search_params.sum_s.values()\n",
    "plt.plot([_ for _ in range(10)], graph)\n",
    "plt.title('Эмпирическая ошибка')\n",
    "plt.show()"
   ]
  },
  {
   "cell_type": "code",
   "execution_count": 21,
   "id": "898cd788",
   "metadata": {},
   "outputs": [],
   "source": [
    "time_ = datetime.datetime.now()\n",
    "clf = GridSearchCV(KNeighborsClassifier(), {'n_neighbors': range(1, 10)})\n",
    "clf.fit(features_train, target_train)\n",
    "\n",
    "best_model = KNeighborsClassifier(**clf.best_params_)\n",
    "best_model.fit(features_train, target_train)\n",
    "predicted = best_model.predict(features_test)\n",
    "time__ = datetime.datetime.now()\n",
    "time_lib = time__ - time_"
   ]
  },
  {
   "cell_type": "code",
   "execution_count": 26,
   "id": "746daf84",
   "metadata": {},
   "outputs": [
    {
     "name": "stdout",
     "output_type": "stream",
     "text": [
      "Время работы билиотечного алгоритма составило 454806 микросекунд.\n",
      "Время работы написанного алгоритма составило 105637 микросекунд.\n"
     ]
    }
   ],
   "source": [
    "print(f'Время работы билиотечного алгоритма составило {time_lib.microseconds} микросекунд.')\n",
    "print(f'Время работы написанного алгоритма составило {time_hand.microseconds} микросекунд.')"
   ]
  },
  {
   "cell_type": "code",
   "execution_count": 30,
   "id": "26344974",
   "metadata": {},
   "outputs": [
    {
     "name": "stdout",
     "output_type": "stream",
     "text": [
      "Accuracy для ручного алгоритма: 97.36842105263158\n",
      "Precession для ручного алгоритма: 95.83333333333334\n",
      "Recall для ручного алгоритма: 98.24561403508771\n",
      "F1 для ручного алгоритма: 96.87687687687688\n"
     ]
    }
   ],
   "source": [
    "compare_df = pd.DataFrame({'y_pred': list(target_pred), 'y_targ': list(target_test)})\n",
    "\n",
    "acc = len(compare_df.loc[compare_df['y_targ'] == compare_df['y_pred']]) / len(compare_df)\n",
    "print(f'Accuracy для ручного алгоритма: {acc * 100}')\n",
    "\n",
    "TP = []\n",
    "FP = []\n",
    "FN = []\n",
    "TN = []\n",
    "\n",
    "for metric in ['virginica', 'versicolor', 'setosa']:\n",
    "    TP.append(len(compare_df.loc[(compare_df['y_targ'] == metric) & (compare_df['y_pred'] == metric)]))\n",
    "    FP.append(len(compare_df.loc[(compare_df['y_targ'] == metric) & (compare_df['y_pred'] != metric)]))\n",
    "    FN.append(len(compare_df.loc[(compare_df['y_targ'] != metric) & (compare_df['y_pred'] == metric)]))\n",
    "    TN.append(len(compare_df.loc[(compare_df['y_targ'] != metric) & (compare_df['y_pred'] != metric)]))\n",
    "\n",
    "TP = np.array(TP)\n",
    "FP = np.array(FP)\n",
    "FN = np.array(FN)\n",
    "TN = np.array(TN)\n",
    "\n",
    "prec = TP / (TP + FP)\n",
    "print(f'Precession для ручного алгоритма: {sum(prec) / len(prec) * 100}')\n",
    "\n",
    "rec = TP / (TP + FN)\n",
    "print(f'Recall для ручного алгоритма: {sum(rec) / len(rec) * 100}')\n",
    "\n",
    "print(f'F1 для ручного алгоритма: {sum(2 * (prec * rec) / (prec + rec)) / len(2 * (prec * rec) / (prec + rec)) * 100}')"
   ]
  },
  {
   "cell_type": "code",
   "execution_count": 31,
   "id": "91131514",
   "metadata": {},
   "outputs": [
    {
     "name": "stdout",
     "output_type": "stream",
     "text": [
      "Accuracy для ручного алгоритма: 97.36842105263158\n",
      "Precession для ручного алгоритма: 95.83333333333334\n",
      "Recall для ручного алгоритма: 98.24561403508771\n",
      "F1 для ручного алгоритма: 96.87687687687688\n"
     ]
    }
   ],
   "source": [
    "compare_df = pd.DataFrame({'y_pred': list(predicted), 'y_targ': list(target_test)})\n",
    "\n",
    "acc = len(compare_df.loc[compare_df['y_targ'] == compare_df['y_pred']]) / len(compare_df)\n",
    "print(f'Accuracy для ручного алгоритма: {acc * 100}')\n",
    "\n",
    "TP = []\n",
    "FP = []\n",
    "FN = []\n",
    "TN = []\n",
    "\n",
    "for metric in ['virginica', 'versicolor', 'setosa']:\n",
    "    TP.append(len(compare_df.loc[(compare_df['y_targ'] == metric) & (compare_df['y_pred'] == metric)]))\n",
    "    FP.append(len(compare_df.loc[(compare_df['y_targ'] == metric) & (compare_df['y_pred'] != metric)]))\n",
    "    FN.append(len(compare_df.loc[(compare_df['y_targ'] != metric) & (compare_df['y_pred'] == metric)]))\n",
    "    TN.append(len(compare_df.loc[(compare_df['y_targ'] != metric) & (compare_df['y_pred'] != metric)]))\n",
    "\n",
    "TP = np.array(TP)\n",
    "FP = np.array(FP)\n",
    "FN = np.array(FN)\n",
    "TN = np.array(TN)\n",
    "\n",
    "prec = TP / (TP + FP)\n",
    "print(f'Precession для ручного алгоритма: {sum(prec) / len(prec) * 100}')\n",
    "\n",
    "rec = TP / (TP + FN)\n",
    "print(f'Recall для ручного алгоритма: {sum(rec) / len(rec) * 100}')\n",
    "\n",
    "print(f'F1 для ручного алгоритма: {sum(2 * (prec * rec) / (prec + rec)) / len(2 * (prec * rec) / (prec + rec)) * 100}')"
   ]
  }
 ],
 "metadata": {
  "kernelspec": {
   "display_name": "Python 3 (ipykernel)",
   "language": "python",
   "name": "python3"
  },
  "language_info": {
   "codemirror_mode": {
    "name": "ipython",
    "version": 3
   },
   "file_extension": ".py",
   "mimetype": "text/x-python",
   "name": "python",
   "nbconvert_exporter": "python",
   "pygments_lexer": "ipython3",
   "version": "3.11.5"
  }
 },
 "nbformat": 4,
 "nbformat_minor": 5
}
